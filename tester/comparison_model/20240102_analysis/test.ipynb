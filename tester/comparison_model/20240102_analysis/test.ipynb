{
 "cells": [
  {
   "cell_type": "code",
   "execution_count": null,
   "metadata": {},
   "outputs": [],
   "source": [
    "# 1. load our best model -> manual inference\n",
    "#       best_model_path = '/lskjaf'\n",
    "#       model.load(best_model_path)\n",
    "#       model('[MASK] ketcup [SEP] title [SEP] tags') -> see results\n",
    "# 2. load our test file -> test to our best model\n",
    "#       test_file_path = './adasf'\n",
    "#       test_loader = load(test_file_path)\n",
    "#       best_model_path = '/lskjaf'\n",
    "#       model.load(best_model_path)\n",
    "#       for instance in test_loader:\n",
    "#           model(instance) -> see results       \n",
    "#           result: pred1, pred2, pred3.. <topN results>\n",
    "# 3. load our results -> see the results\n",
    "#   3.1 task1: Completion\n",
    "#       path: ??\n",
    "#       input:  [MASK] ing1,...ingN-1 [SEP] title [SEP] tags\n",
    "#       result: pred1, pred2, pred3.. <topN results>\n",
    "#   3.2 task2: Generation\n",
    "#       path: test_output/10-next_token_predict_2023_1030_all.tsv -> ?\n",
    "#       input: title tags\n",
    "#       result: ing1, ing2, ing3, ... <N results>\n",
    "#   3.3 task2+1?: \n",
    "#       input: title tags\n",
    "#       result: ing1, ing2, ing3, ... <N results>\n",
    "#           <step1>\n",
    "#           input:  [MASK] ing1 [SEP] title [SEP] tags\n",
    "#           result: pred1, pred2, pred3.. <topN results>\n",
    "#           <step2>\n",
    "#           input:  [MASK] ing1, ing2 [SEP] title [SEP] tags\n",
    "#           result: pred1, pred2, pred3.. <topN results>\n"
   ]
  }
 ],
 "metadata": {
  "language_info": {
   "name": "python"
  }
 },
 "nbformat": 4,
 "nbformat_minor": 2
}
