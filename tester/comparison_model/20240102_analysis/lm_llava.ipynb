{
 "cells": [
  {
   "cell_type": "code",
   "execution_count": 1,
   "metadata": {},
   "outputs": [],
   "source": [
    "# test dataset load\n",
    "\n",
    "testdata_path = '/home/donghee/projects/mlm/tester/recipebowl_test_data_with_title.txt'\n",
    "\n",
    "f = open(testdata_path, 'r')\n",
    "\n",
    "lines = f.readlines()"
   ]
  },
  {
   "cell_type": "code",
   "execution_count": 2,
   "metadata": {},
   "outputs": [],
   "source": [
    "from langchain.llms import Ollama\n",
    "\n",
    "llm=Ollama(model=\"llava\")"
   ]
  },
  {
   "cell_type": "code",
   "execution_count": 3,
   "metadata": {},
   "outputs": [
    {
     "name": "stderr",
     "output_type": "stream",
     "text": [
      "29it [00:54,  1.88s/it]\n"
     ]
    },
    {
     "ename": "KeyboardInterrupt",
     "evalue": "",
     "output_type": "error",
     "traceback": [
      "\u001b[0;31m---------------------------------------------------------------------------\u001b[0m",
      "\u001b[0;31mKeyboardInterrupt\u001b[0m                         Traceback (most recent call last)",
      "Cell \u001b[0;32mIn[3], line 9\u001b[0m\n\u001b[1;32m      6\u001b[0m \u001b[38;5;28;01mfor\u001b[39;00m i, v \u001b[38;5;129;01min\u001b[39;00m tqdm(\u001b[38;5;28menumerate\u001b[39m(lines)):\n\u001b[1;32m      7\u001b[0m     food \u001b[38;5;241m=\u001b[39m v\u001b[38;5;241m.\u001b[39msplit(\u001b[38;5;124m'\u001b[39m\u001b[38;5;124m[SEP]\u001b[39m\u001b[38;5;124m'\u001b[39m)[\u001b[38;5;241m1\u001b[39m]\n\u001b[0;32m----> 9\u001b[0m     output \u001b[38;5;241m=\u001b[39m llm\u001b[38;5;241m.\u001b[39mpredict(\u001b[38;5;124mf\u001b[39m\u001b[38;5;124m\"\u001b[39m\u001b[38;5;124mI only want to know ingredients of \u001b[39m\u001b[38;5;132;01m{\u001b[39;00mfood\u001b[38;5;132;01m}\u001b[39;00m\u001b[38;5;124m, exclude the content.\u001b[39m\u001b[38;5;124m\"\u001b[39m)\n\u001b[1;32m     11\u001b[0m     output_list\u001b[38;5;241m.\u001b[39mappend(output)\n\u001b[1;32m     13\u001b[0m     output \u001b[38;5;241m=\u001b[39m output\u001b[38;5;241m.\u001b[39mreplace(\u001b[38;5;124m'\u001b[39m\u001b[38;5;130;01m\\n\u001b[39;00m\u001b[38;5;124m'\u001b[39m, \u001b[38;5;124m'\u001b[39m\u001b[38;5;124m%\u001b[39m\u001b[38;5;124m^\u001b[39m\u001b[38;5;124m'\u001b[39m)\n",
      "File \u001b[0;32m~/anaconda3/envs/ing/lib/python3.11/site-packages/langchain_core/language_models/llms.py:937\u001b[0m, in \u001b[0;36mBaseLLM.predict\u001b[0;34m(self, text, stop, **kwargs)\u001b[0m\n\u001b[1;32m    935\u001b[0m \u001b[38;5;28;01melse\u001b[39;00m:\n\u001b[1;32m    936\u001b[0m     _stop \u001b[38;5;241m=\u001b[39m \u001b[38;5;28mlist\u001b[39m(stop)\n\u001b[0;32m--> 937\u001b[0m \u001b[38;5;28;01mreturn\u001b[39;00m \u001b[38;5;28mself\u001b[39m(text, stop\u001b[38;5;241m=\u001b[39m_stop, \u001b[38;5;241m*\u001b[39m\u001b[38;5;241m*\u001b[39mkwargs)\n",
      "File \u001b[0;32m~/anaconda3/envs/ing/lib/python3.11/site-packages/langchain_core/language_models/llms.py:897\u001b[0m, in \u001b[0;36mBaseLLM.__call__\u001b[0;34m(self, prompt, stop, callbacks, tags, metadata, **kwargs)\u001b[0m\n\u001b[1;32m    890\u001b[0m \u001b[38;5;28;01mif\u001b[39;00m \u001b[38;5;129;01mnot\u001b[39;00m \u001b[38;5;28misinstance\u001b[39m(prompt, \u001b[38;5;28mstr\u001b[39m):\n\u001b[1;32m    891\u001b[0m     \u001b[38;5;28;01mraise\u001b[39;00m \u001b[38;5;167;01mValueError\u001b[39;00m(\n\u001b[1;32m    892\u001b[0m         \u001b[38;5;124m\"\u001b[39m\u001b[38;5;124mArgument `prompt` is expected to be a string. Instead found \u001b[39m\u001b[38;5;124m\"\u001b[39m\n\u001b[1;32m    893\u001b[0m         \u001b[38;5;124mf\u001b[39m\u001b[38;5;124m\"\u001b[39m\u001b[38;5;132;01m{\u001b[39;00m\u001b[38;5;28mtype\u001b[39m(prompt)\u001b[38;5;132;01m}\u001b[39;00m\u001b[38;5;124m. If you want to run the LLM on multiple prompts, use \u001b[39m\u001b[38;5;124m\"\u001b[39m\n\u001b[1;32m    894\u001b[0m         \u001b[38;5;124m\"\u001b[39m\u001b[38;5;124m`generate` instead.\u001b[39m\u001b[38;5;124m\"\u001b[39m\n\u001b[1;32m    895\u001b[0m     )\n\u001b[1;32m    896\u001b[0m \u001b[38;5;28;01mreturn\u001b[39;00m (\n\u001b[0;32m--> 897\u001b[0m     \u001b[38;5;28mself\u001b[39m\u001b[38;5;241m.\u001b[39mgenerate(\n\u001b[1;32m    898\u001b[0m         [prompt],\n\u001b[1;32m    899\u001b[0m         stop\u001b[38;5;241m=\u001b[39mstop,\n\u001b[1;32m    900\u001b[0m         callbacks\u001b[38;5;241m=\u001b[39mcallbacks,\n\u001b[1;32m    901\u001b[0m         tags\u001b[38;5;241m=\u001b[39mtags,\n\u001b[1;32m    902\u001b[0m         metadata\u001b[38;5;241m=\u001b[39mmetadata,\n\u001b[1;32m    903\u001b[0m         \u001b[38;5;241m*\u001b[39m\u001b[38;5;241m*\u001b[39mkwargs,\n\u001b[1;32m    904\u001b[0m     )\n\u001b[1;32m    905\u001b[0m     \u001b[38;5;241m.\u001b[39mgenerations[\u001b[38;5;241m0\u001b[39m][\u001b[38;5;241m0\u001b[39m]\n\u001b[1;32m    906\u001b[0m     \u001b[38;5;241m.\u001b[39mtext\n\u001b[1;32m    907\u001b[0m )\n",
      "File \u001b[0;32m~/anaconda3/envs/ing/lib/python3.11/site-packages/langchain_core/language_models/llms.py:671\u001b[0m, in \u001b[0;36mBaseLLM.generate\u001b[0;34m(self, prompts, stop, callbacks, tags, metadata, run_name, **kwargs)\u001b[0m\n\u001b[1;32m    655\u001b[0m         \u001b[38;5;28;01mraise\u001b[39;00m \u001b[38;5;167;01mValueError\u001b[39;00m(\n\u001b[1;32m    656\u001b[0m             \u001b[38;5;124m\"\u001b[39m\u001b[38;5;124mAsked to cache, but no cache found at `langchain.cache`.\u001b[39m\u001b[38;5;124m\"\u001b[39m\n\u001b[1;32m    657\u001b[0m         )\n\u001b[1;32m    658\u001b[0m     run_managers \u001b[38;5;241m=\u001b[39m [\n\u001b[1;32m    659\u001b[0m         callback_manager\u001b[38;5;241m.\u001b[39mon_llm_start(\n\u001b[1;32m    660\u001b[0m             dumpd(\u001b[38;5;28mself\u001b[39m),\n\u001b[0;32m   (...)\u001b[0m\n\u001b[1;32m    669\u001b[0m         )\n\u001b[1;32m    670\u001b[0m     ]\n\u001b[0;32m--> 671\u001b[0m     output \u001b[38;5;241m=\u001b[39m \u001b[38;5;28mself\u001b[39m\u001b[38;5;241m.\u001b[39m_generate_helper(\n\u001b[1;32m    672\u001b[0m         prompts, stop, run_managers, \u001b[38;5;28mbool\u001b[39m(new_arg_supported), \u001b[38;5;241m*\u001b[39m\u001b[38;5;241m*\u001b[39mkwargs\n\u001b[1;32m    673\u001b[0m     )\n\u001b[1;32m    674\u001b[0m     \u001b[38;5;28;01mreturn\u001b[39;00m output\n\u001b[1;32m    675\u001b[0m \u001b[38;5;28;01mif\u001b[39;00m \u001b[38;5;28mlen\u001b[39m(missing_prompts) \u001b[38;5;241m>\u001b[39m \u001b[38;5;241m0\u001b[39m:\n",
      "File \u001b[0;32m~/anaconda3/envs/ing/lib/python3.11/site-packages/langchain_core/language_models/llms.py:558\u001b[0m, in \u001b[0;36mBaseLLM._generate_helper\u001b[0;34m(self, prompts, stop, run_managers, new_arg_supported, **kwargs)\u001b[0m\n\u001b[1;32m    556\u001b[0m     \u001b[38;5;28;01mfor\u001b[39;00m run_manager \u001b[38;5;129;01min\u001b[39;00m run_managers:\n\u001b[1;32m    557\u001b[0m         run_manager\u001b[38;5;241m.\u001b[39mon_llm_error(e, response\u001b[38;5;241m=\u001b[39mLLMResult(generations\u001b[38;5;241m=\u001b[39m[]))\n\u001b[0;32m--> 558\u001b[0m     \u001b[38;5;28;01mraise\u001b[39;00m e\n\u001b[1;32m    559\u001b[0m flattened_outputs \u001b[38;5;241m=\u001b[39m output\u001b[38;5;241m.\u001b[39mflatten()\n\u001b[1;32m    560\u001b[0m \u001b[38;5;28;01mfor\u001b[39;00m manager, flattened_output \u001b[38;5;129;01min\u001b[39;00m \u001b[38;5;28mzip\u001b[39m(run_managers, flattened_outputs):\n",
      "File \u001b[0;32m~/anaconda3/envs/ing/lib/python3.11/site-packages/langchain_core/language_models/llms.py:545\u001b[0m, in \u001b[0;36mBaseLLM._generate_helper\u001b[0;34m(self, prompts, stop, run_managers, new_arg_supported, **kwargs)\u001b[0m\n\u001b[1;32m    535\u001b[0m \u001b[38;5;28;01mdef\u001b[39;00m \u001b[38;5;21m_generate_helper\u001b[39m(\n\u001b[1;32m    536\u001b[0m     \u001b[38;5;28mself\u001b[39m,\n\u001b[1;32m    537\u001b[0m     prompts: List[\u001b[38;5;28mstr\u001b[39m],\n\u001b[0;32m   (...)\u001b[0m\n\u001b[1;32m    541\u001b[0m     \u001b[38;5;241m*\u001b[39m\u001b[38;5;241m*\u001b[39mkwargs: Any,\n\u001b[1;32m    542\u001b[0m ) \u001b[38;5;241m-\u001b[39m\u001b[38;5;241m>\u001b[39m LLMResult:\n\u001b[1;32m    543\u001b[0m     \u001b[38;5;28;01mtry\u001b[39;00m:\n\u001b[1;32m    544\u001b[0m         output \u001b[38;5;241m=\u001b[39m (\n\u001b[0;32m--> 545\u001b[0m             \u001b[38;5;28mself\u001b[39m\u001b[38;5;241m.\u001b[39m_generate(\n\u001b[1;32m    546\u001b[0m                 prompts,\n\u001b[1;32m    547\u001b[0m                 stop\u001b[38;5;241m=\u001b[39mstop,\n\u001b[1;32m    548\u001b[0m                 \u001b[38;5;66;03m# TODO: support multiple run managers\u001b[39;00m\n\u001b[1;32m    549\u001b[0m                 run_manager\u001b[38;5;241m=\u001b[39mrun_managers[\u001b[38;5;241m0\u001b[39m] \u001b[38;5;28;01mif\u001b[39;00m run_managers \u001b[38;5;28;01melse\u001b[39;00m \u001b[38;5;28;01mNone\u001b[39;00m,\n\u001b[1;32m    550\u001b[0m                 \u001b[38;5;241m*\u001b[39m\u001b[38;5;241m*\u001b[39mkwargs,\n\u001b[1;32m    551\u001b[0m             )\n\u001b[1;32m    552\u001b[0m             \u001b[38;5;28;01mif\u001b[39;00m new_arg_supported\n\u001b[1;32m    553\u001b[0m             \u001b[38;5;28;01melse\u001b[39;00m \u001b[38;5;28mself\u001b[39m\u001b[38;5;241m.\u001b[39m_generate(prompts, stop\u001b[38;5;241m=\u001b[39mstop)\n\u001b[1;32m    554\u001b[0m         )\n\u001b[1;32m    555\u001b[0m     \u001b[38;5;28;01mexcept\u001b[39;00m \u001b[38;5;167;01mBaseException\u001b[39;00m \u001b[38;5;28;01mas\u001b[39;00m e:\n\u001b[1;32m    556\u001b[0m         \u001b[38;5;28;01mfor\u001b[39;00m run_manager \u001b[38;5;129;01min\u001b[39;00m run_managers:\n",
      "File \u001b[0;32m~/anaconda3/envs/ing/lib/python3.11/site-packages/langchain_community/llms/ollama.py:389\u001b[0m, in \u001b[0;36mOllama._generate\u001b[0;34m(self, prompts, stop, images, run_manager, **kwargs)\u001b[0m\n\u001b[1;32m    387\u001b[0m generations \u001b[38;5;241m=\u001b[39m []\n\u001b[1;32m    388\u001b[0m \u001b[38;5;28;01mfor\u001b[39;00m prompt \u001b[38;5;129;01min\u001b[39;00m prompts:\n\u001b[0;32m--> 389\u001b[0m     final_chunk \u001b[38;5;241m=\u001b[39m \u001b[38;5;28msuper\u001b[39m()\u001b[38;5;241m.\u001b[39m_stream_with_aggregation(\n\u001b[1;32m    390\u001b[0m         prompt,\n\u001b[1;32m    391\u001b[0m         stop\u001b[38;5;241m=\u001b[39mstop,\n\u001b[1;32m    392\u001b[0m         images\u001b[38;5;241m=\u001b[39mimages,\n\u001b[1;32m    393\u001b[0m         run_manager\u001b[38;5;241m=\u001b[39mrun_manager,\n\u001b[1;32m    394\u001b[0m         verbose\u001b[38;5;241m=\u001b[39m\u001b[38;5;28mself\u001b[39m\u001b[38;5;241m.\u001b[39mverbose,\n\u001b[1;32m    395\u001b[0m         \u001b[38;5;241m*\u001b[39m\u001b[38;5;241m*\u001b[39mkwargs,\n\u001b[1;32m    396\u001b[0m     )\n\u001b[1;32m    397\u001b[0m     generations\u001b[38;5;241m.\u001b[39mappend([final_chunk])\n\u001b[1;32m    398\u001b[0m \u001b[38;5;28;01mreturn\u001b[39;00m LLMResult(generations\u001b[38;5;241m=\u001b[39mgenerations)\n",
      "File \u001b[0;32m~/anaconda3/envs/ing/lib/python3.11/site-packages/langchain_community/llms/ollama.py:298\u001b[0m, in \u001b[0;36m_OllamaCommon._stream_with_aggregation\u001b[0;34m(self, prompt, stop, run_manager, verbose, **kwargs)\u001b[0m\n\u001b[1;32m    289\u001b[0m \u001b[38;5;28;01mdef\u001b[39;00m \u001b[38;5;21m_stream_with_aggregation\u001b[39m(\n\u001b[1;32m    290\u001b[0m     \u001b[38;5;28mself\u001b[39m,\n\u001b[1;32m    291\u001b[0m     prompt: \u001b[38;5;28mstr\u001b[39m,\n\u001b[0;32m   (...)\u001b[0m\n\u001b[1;32m    295\u001b[0m     \u001b[38;5;241m*\u001b[39m\u001b[38;5;241m*\u001b[39mkwargs: Any,\n\u001b[1;32m    296\u001b[0m ) \u001b[38;5;241m-\u001b[39m\u001b[38;5;241m>\u001b[39m GenerationChunk:\n\u001b[1;32m    297\u001b[0m     final_chunk: Optional[GenerationChunk] \u001b[38;5;241m=\u001b[39m \u001b[38;5;28;01mNone\u001b[39;00m\n\u001b[0;32m--> 298\u001b[0m     \u001b[38;5;28;01mfor\u001b[39;00m stream_resp \u001b[38;5;129;01min\u001b[39;00m \u001b[38;5;28mself\u001b[39m\u001b[38;5;241m.\u001b[39m_create_generate_stream(prompt, stop, \u001b[38;5;241m*\u001b[39m\u001b[38;5;241m*\u001b[39mkwargs):\n\u001b[1;32m    299\u001b[0m         \u001b[38;5;28;01mif\u001b[39;00m stream_resp:\n\u001b[1;32m    300\u001b[0m             chunk \u001b[38;5;241m=\u001b[39m _stream_response_to_generation_chunk(stream_resp)\n",
      "File \u001b[0;32m~/anaconda3/envs/ing/lib/python3.11/site-packages/langchain_community/llms/ollama.py:148\u001b[0m, in \u001b[0;36m_OllamaCommon._create_generate_stream\u001b[0;34m(self, prompt, stop, images, **kwargs)\u001b[0m\n\u001b[1;32m    140\u001b[0m \u001b[38;5;28;01mdef\u001b[39;00m \u001b[38;5;21m_create_generate_stream\u001b[39m(\n\u001b[1;32m    141\u001b[0m     \u001b[38;5;28mself\u001b[39m,\n\u001b[1;32m    142\u001b[0m     prompt: \u001b[38;5;28mstr\u001b[39m,\n\u001b[0;32m   (...)\u001b[0m\n\u001b[1;32m    145\u001b[0m     \u001b[38;5;241m*\u001b[39m\u001b[38;5;241m*\u001b[39mkwargs: Any,\n\u001b[1;32m    146\u001b[0m ) \u001b[38;5;241m-\u001b[39m\u001b[38;5;241m>\u001b[39m Iterator[\u001b[38;5;28mstr\u001b[39m]:\n\u001b[1;32m    147\u001b[0m     payload \u001b[38;5;241m=\u001b[39m {\u001b[38;5;124m\"\u001b[39m\u001b[38;5;124mprompt\u001b[39m\u001b[38;5;124m\"\u001b[39m: prompt, \u001b[38;5;124m\"\u001b[39m\u001b[38;5;124mimages\u001b[39m\u001b[38;5;124m\"\u001b[39m: images}\n\u001b[0;32m--> 148\u001b[0m     \u001b[38;5;28;01myield from\u001b[39;00m \u001b[38;5;28mself\u001b[39m\u001b[38;5;241m.\u001b[39m_create_stream(\n\u001b[1;32m    149\u001b[0m         payload\u001b[38;5;241m=\u001b[39mpayload,\n\u001b[1;32m    150\u001b[0m         stop\u001b[38;5;241m=\u001b[39mstop,\n\u001b[1;32m    151\u001b[0m         api_url\u001b[38;5;241m=\u001b[39m\u001b[38;5;124mf\u001b[39m\u001b[38;5;124m\"\u001b[39m\u001b[38;5;132;01m{\u001b[39;00m\u001b[38;5;28mself\u001b[39m\u001b[38;5;241m.\u001b[39mbase_url\u001b[38;5;132;01m}\u001b[39;00m\u001b[38;5;124m/api/generate/\u001b[39m\u001b[38;5;124m\"\u001b[39m,\n\u001b[1;32m    152\u001b[0m         \u001b[38;5;241m*\u001b[39m\u001b[38;5;241m*\u001b[39mkwargs,\n\u001b[1;32m    153\u001b[0m     )\n",
      "File \u001b[0;32m~/anaconda3/envs/ing/lib/python3.11/site-packages/requests/models.py:865\u001b[0m, in \u001b[0;36mResponse.iter_lines\u001b[0;34m(self, chunk_size, decode_unicode, delimiter)\u001b[0m\n\u001b[1;32m    856\u001b[0m \u001b[38;5;250m\u001b[39m\u001b[38;5;124;03m\"\"\"Iterates over the response data, one line at a time.  When\u001b[39;00m\n\u001b[1;32m    857\u001b[0m \u001b[38;5;124;03mstream=True is set on the request, this avoids reading the\u001b[39;00m\n\u001b[1;32m    858\u001b[0m \u001b[38;5;124;03mcontent at once into memory for large responses.\u001b[39;00m\n\u001b[1;32m    859\u001b[0m \n\u001b[1;32m    860\u001b[0m \u001b[38;5;124;03m.. note:: This method is not reentrant safe.\u001b[39;00m\n\u001b[1;32m    861\u001b[0m \u001b[38;5;124;03m\"\"\"\u001b[39;00m\n\u001b[1;32m    863\u001b[0m pending \u001b[38;5;241m=\u001b[39m \u001b[38;5;28;01mNone\u001b[39;00m\n\u001b[0;32m--> 865\u001b[0m \u001b[38;5;28;01mfor\u001b[39;00m chunk \u001b[38;5;129;01min\u001b[39;00m \u001b[38;5;28mself\u001b[39m\u001b[38;5;241m.\u001b[39miter_content(\n\u001b[1;32m    866\u001b[0m     chunk_size\u001b[38;5;241m=\u001b[39mchunk_size, decode_unicode\u001b[38;5;241m=\u001b[39mdecode_unicode\n\u001b[1;32m    867\u001b[0m ):\n\u001b[1;32m    869\u001b[0m     \u001b[38;5;28;01mif\u001b[39;00m pending \u001b[38;5;129;01mis\u001b[39;00m \u001b[38;5;129;01mnot\u001b[39;00m \u001b[38;5;28;01mNone\u001b[39;00m:\n\u001b[1;32m    870\u001b[0m         chunk \u001b[38;5;241m=\u001b[39m pending \u001b[38;5;241m+\u001b[39m chunk\n",
      "File \u001b[0;32m~/anaconda3/envs/ing/lib/python3.11/site-packages/requests/utils.py:571\u001b[0m, in \u001b[0;36mstream_decode_response_unicode\u001b[0;34m(iterator, r)\u001b[0m\n\u001b[1;32m    568\u001b[0m     \u001b[38;5;28;01mreturn\u001b[39;00m\n\u001b[1;32m    570\u001b[0m decoder \u001b[38;5;241m=\u001b[39m codecs\u001b[38;5;241m.\u001b[39mgetincrementaldecoder(r\u001b[38;5;241m.\u001b[39mencoding)(errors\u001b[38;5;241m=\u001b[39m\u001b[38;5;124m\"\u001b[39m\u001b[38;5;124mreplace\u001b[39m\u001b[38;5;124m\"\u001b[39m)\n\u001b[0;32m--> 571\u001b[0m \u001b[38;5;28;01mfor\u001b[39;00m chunk \u001b[38;5;129;01min\u001b[39;00m iterator:\n\u001b[1;32m    572\u001b[0m     rv \u001b[38;5;241m=\u001b[39m decoder\u001b[38;5;241m.\u001b[39mdecode(chunk)\n\u001b[1;32m    573\u001b[0m     \u001b[38;5;28;01mif\u001b[39;00m rv:\n",
      "File \u001b[0;32m~/anaconda3/envs/ing/lib/python3.11/site-packages/requests/models.py:816\u001b[0m, in \u001b[0;36mResponse.iter_content.<locals>.generate\u001b[0;34m()\u001b[0m\n\u001b[1;32m    814\u001b[0m \u001b[38;5;28;01mif\u001b[39;00m \u001b[38;5;28mhasattr\u001b[39m(\u001b[38;5;28mself\u001b[39m\u001b[38;5;241m.\u001b[39mraw, \u001b[38;5;124m\"\u001b[39m\u001b[38;5;124mstream\u001b[39m\u001b[38;5;124m\"\u001b[39m):\n\u001b[1;32m    815\u001b[0m     \u001b[38;5;28;01mtry\u001b[39;00m:\n\u001b[0;32m--> 816\u001b[0m         \u001b[38;5;28;01myield from\u001b[39;00m \u001b[38;5;28mself\u001b[39m\u001b[38;5;241m.\u001b[39mraw\u001b[38;5;241m.\u001b[39mstream(chunk_size, decode_content\u001b[38;5;241m=\u001b[39m\u001b[38;5;28;01mTrue\u001b[39;00m)\n\u001b[1;32m    817\u001b[0m     \u001b[38;5;28;01mexcept\u001b[39;00m ProtocolError \u001b[38;5;28;01mas\u001b[39;00m e:\n\u001b[1;32m    818\u001b[0m         \u001b[38;5;28;01mraise\u001b[39;00m ChunkedEncodingError(e)\n",
      "File \u001b[0;32m~/anaconda3/envs/ing/lib/python3.11/site-packages/urllib3/response.py:624\u001b[0m, in \u001b[0;36mHTTPResponse.stream\u001b[0;34m(self, amt, decode_content)\u001b[0m\n\u001b[1;32m    608\u001b[0m \u001b[38;5;250m\u001b[39m\u001b[38;5;124;03m\"\"\"\u001b[39;00m\n\u001b[1;32m    609\u001b[0m \u001b[38;5;124;03mA generator wrapper for the read() method. A call will block until\u001b[39;00m\n\u001b[1;32m    610\u001b[0m \u001b[38;5;124;03m``amt`` bytes have been read from the connection or until the\u001b[39;00m\n\u001b[0;32m   (...)\u001b[0m\n\u001b[1;32m    621\u001b[0m \u001b[38;5;124;03m    'content-encoding' header.\u001b[39;00m\n\u001b[1;32m    622\u001b[0m \u001b[38;5;124;03m\"\"\"\u001b[39;00m\n\u001b[1;32m    623\u001b[0m \u001b[38;5;28;01mif\u001b[39;00m \u001b[38;5;28mself\u001b[39m\u001b[38;5;241m.\u001b[39mchunked \u001b[38;5;129;01mand\u001b[39;00m \u001b[38;5;28mself\u001b[39m\u001b[38;5;241m.\u001b[39msupports_chunked_reads():\n\u001b[0;32m--> 624\u001b[0m     \u001b[38;5;28;01mfor\u001b[39;00m line \u001b[38;5;129;01min\u001b[39;00m \u001b[38;5;28mself\u001b[39m\u001b[38;5;241m.\u001b[39mread_chunked(amt, decode_content\u001b[38;5;241m=\u001b[39mdecode_content):\n\u001b[1;32m    625\u001b[0m         \u001b[38;5;28;01myield\u001b[39;00m line\n\u001b[1;32m    626\u001b[0m \u001b[38;5;28;01melse\u001b[39;00m:\n",
      "File \u001b[0;32m~/anaconda3/envs/ing/lib/python3.11/site-packages/urllib3/response.py:828\u001b[0m, in \u001b[0;36mHTTPResponse.read_chunked\u001b[0;34m(self, amt, decode_content)\u001b[0m\n\u001b[1;32m    825\u001b[0m     \u001b[38;5;28;01mreturn\u001b[39;00m\n\u001b[1;32m    827\u001b[0m \u001b[38;5;28;01mwhile\u001b[39;00m \u001b[38;5;28;01mTrue\u001b[39;00m:\n\u001b[0;32m--> 828\u001b[0m     \u001b[38;5;28mself\u001b[39m\u001b[38;5;241m.\u001b[39m_update_chunk_length()\n\u001b[1;32m    829\u001b[0m     \u001b[38;5;28;01mif\u001b[39;00m \u001b[38;5;28mself\u001b[39m\u001b[38;5;241m.\u001b[39mchunk_left \u001b[38;5;241m==\u001b[39m \u001b[38;5;241m0\u001b[39m:\n\u001b[1;32m    830\u001b[0m         \u001b[38;5;28;01mbreak\u001b[39;00m\n",
      "File \u001b[0;32m~/anaconda3/envs/ing/lib/python3.11/site-packages/urllib3/response.py:758\u001b[0m, in \u001b[0;36mHTTPResponse._update_chunk_length\u001b[0;34m(self)\u001b[0m\n\u001b[1;32m    756\u001b[0m \u001b[38;5;28;01mif\u001b[39;00m \u001b[38;5;28mself\u001b[39m\u001b[38;5;241m.\u001b[39mchunk_left \u001b[38;5;129;01mis\u001b[39;00m \u001b[38;5;129;01mnot\u001b[39;00m \u001b[38;5;28;01mNone\u001b[39;00m:\n\u001b[1;32m    757\u001b[0m     \u001b[38;5;28;01mreturn\u001b[39;00m\n\u001b[0;32m--> 758\u001b[0m line \u001b[38;5;241m=\u001b[39m \u001b[38;5;28mself\u001b[39m\u001b[38;5;241m.\u001b[39m_fp\u001b[38;5;241m.\u001b[39mfp\u001b[38;5;241m.\u001b[39mreadline()\n\u001b[1;32m    759\u001b[0m line \u001b[38;5;241m=\u001b[39m line\u001b[38;5;241m.\u001b[39msplit(\u001b[38;5;124mb\u001b[39m\u001b[38;5;124m\"\u001b[39m\u001b[38;5;124m;\u001b[39m\u001b[38;5;124m\"\u001b[39m, \u001b[38;5;241m1\u001b[39m)[\u001b[38;5;241m0\u001b[39m]\n\u001b[1;32m    760\u001b[0m \u001b[38;5;28;01mtry\u001b[39;00m:\n",
      "File \u001b[0;32m~/anaconda3/envs/ing/lib/python3.11/socket.py:706\u001b[0m, in \u001b[0;36mSocketIO.readinto\u001b[0;34m(self, b)\u001b[0m\n\u001b[1;32m    704\u001b[0m \u001b[38;5;28;01mwhile\u001b[39;00m \u001b[38;5;28;01mTrue\u001b[39;00m:\n\u001b[1;32m    705\u001b[0m     \u001b[38;5;28;01mtry\u001b[39;00m:\n\u001b[0;32m--> 706\u001b[0m         \u001b[38;5;28;01mreturn\u001b[39;00m \u001b[38;5;28mself\u001b[39m\u001b[38;5;241m.\u001b[39m_sock\u001b[38;5;241m.\u001b[39mrecv_into(b)\n\u001b[1;32m    707\u001b[0m     \u001b[38;5;28;01mexcept\u001b[39;00m timeout:\n\u001b[1;32m    708\u001b[0m         \u001b[38;5;28mself\u001b[39m\u001b[38;5;241m.\u001b[39m_timeout_occurred \u001b[38;5;241m=\u001b[39m \u001b[38;5;28;01mTrue\u001b[39;00m\n",
      "\u001b[0;31mKeyboardInterrupt\u001b[0m: "
     ]
    }
   ],
   "source": [
    "import json\n",
    "from tqdm import tqdm\n",
    "from collections import OrderedDict\n",
    "\n",
    "output_list = []\n",
    "for i, v in tqdm(enumerate(lines)):\n",
    "    food = v.split('[SEP]')[1]\n",
    "\n",
    "    output = llm.predict(f\"I only want to know ingredients of {food}, exclude the content.\")\n",
    "\n",
    "    output_list.append(output)\n",
    "\n",
    "    output = output.replace('\\n', '%^')\n",
    "\n",
    "    file_path = \"/home/donghee/projects/mlm/tester/backup/llava_result.text\" \n",
    "    with open(file_path, 'a') as file:\n",
    "        file.write(output + '\\n')"
   ]
  },
  {
   "cell_type": "code",
   "execution_count": 31,
   "metadata": {},
   "outputs": [
    {
     "name": "stdout",
     "output_type": "stream",
     "text": [
      "1 cup diced Apricots\n",
      "2 tablespoons honey\n",
      "4 ounces sour cream\n",
      "4 ounces cream cheese, softened\n",
      "1 teaspoon vanilla extract\n"
     ]
    }
   ],
   "source": [
    "print(output_list[5])"
   ]
  },
  {
   "cell_type": "code",
   "execution_count": 18,
   "metadata": {},
   "outputs": [],
   "source": [
    "f = open(file_path, 'r')\n",
    "\n",
    "lines2 = f.readlines()"
   ]
  },
  {
   "cell_type": "code",
   "execution_count": 6,
   "metadata": {},
   "outputs": [],
   "source": [
    "# import re\n",
    "# string = '4. asfafg'\n",
    "\n",
    "# r = re.match('.[.]', string)\n",
    "# if r is not None:\n",
    "#     print(string)"
   ]
  },
  {
   "cell_type": "code",
   "execution_count": 25,
   "metadata": {},
   "outputs": [
    {
     "data": {
      "text/plain": [
       "['1. 500g of shrimp',\n",
       " '2. 50g of pesto sauce',\n",
       " '3. 1 cup of macaroni or elbow pasta',\n",
       " '4. Half a cup of grated cheese (such as cheddar, mozzarella or parmesan)\\n']"
      ]
     },
     "execution_count": 25,
     "metadata": {},
     "output_type": "execute_result"
    }
   ],
   "source": [
    "lines2[0].split('%^')"
   ]
  },
  {
   "cell_type": "code",
   "execution_count": 32,
   "metadata": {},
   "outputs": [],
   "source": [
    "# 어쩔 수 없다... 걍 content + ingre 에서 정답이 포함되어 있는지를 보자.\n",
    "import re\n",
    "\n",
    "tmp = []\n",
    "for a in lines2:\n",
    "    tmp.append(a.split('%^'))\n",
    "\n",
    "result3 = []\n",
    "for b in tmp:\n",
    "    result2 = []\n",
    "    for word in b:\n",
    "        if word.startswith('*'):\n",
    "            result2.append(word)\n",
    "        elif word.startswith('-'):\n",
    "            result2.append(word)\n",
    "        elif re.match('.[.]', word) is not None:\n",
    "            result2.append(word)\n",
    "        else :\n",
    "            result2.append(word)        \n",
    "    result3.append(result2)"
   ]
  },
  {
   "cell_type": "code",
   "execution_count": 33,
   "metadata": {},
   "outputs": [
    {
     "data": {
      "text/plain": [
       "[['1. 500g of shrimp',\n",
       "  '2. 50g of pesto sauce',\n",
       "  '3. 1 cup of macaroni or elbow pasta',\n",
       "  '4. Half a cup of grated cheese (such as cheddar, mozzarella or parmesan)\\n'],\n",
       " ['1. Shrimp',\n",
       "  '2. Oil',\n",
       "  '3. Garlic',\n",
       "  '4. Ginger',\n",
       "  '5. Onion',\n",
       "  '6. Soy sauce\\n'],\n",
       " ['1. Pork Chops:',\n",
       "  '* 3 lbs. boneless, skinless pork chops',\n",
       "  '* 2 tbsp. olive oil',\n",
       "  '* 4 cloves garlic, minced',\n",
       "  '* 1 cup beef broth',\n",
       "  '* Salt and pepper to taste',\n",
       "  '2. Apples:',\n",
       "  '* 6 medium apples, sliced\\n'],\n",
       " ['1. Romaine Lettuce',\n",
       "  '2. Cherry Tomatoes',\n",
       "  '3. Cucumber',\n",
       "  '4. Red Onion',\n",
       "  '5. Avocado (optional)\\n'],\n",
       " ['1. Blackberry, juiced',\n",
       "  '2. Port wine, 1 cup',\n",
       "  '3. Sugar, 1/4 cup',\n",
       "  '4. Cornstarch, 1 tsp',\n",
       "  '5. Water, 1/4 cup',\n",
       "  '6. Vanilla extract\\n'],\n",
       " ['1 cup diced Apricots',\n",
       "  '2 tablespoons honey',\n",
       "  '4 ounces sour cream',\n",
       "  '4 ounces cream cheese, softened',\n",
       "  '1 teaspoon vanilla extract\\n'],\n",
       " ['1. Asparagus', '2. Fettuccine\\n'],\n",
       " ['1. Chicken breast (boiled, sliced)',\n",
       "  '2. Broccoli florets',\n",
       "  '3. Rice (cooked)',\n",
       "  '4. Olive oil (for cooking)\\n'],\n",
       " ['1. Cornbread mix',\n",
       "  '2. Mayonnaise or salad dressing',\n",
       "  '3. Chopped vegetables (optional)\\n'],\n",
       " ['1. Potatoes',\n",
       "  '2. Butter or oil',\n",
       "  '3. Milk or cream',\n",
       "  '4. Cheese, optional (e.g., cheddar, mozzarella)',\n",
       "  '5. Salt and pepper, to taste',\n",
       "  '6. Optional seasonings (e.g., garlic powder, onion powder)\\n']]"
      ]
     },
     "execution_count": 33,
     "metadata": {},
     "output_type": "execute_result"
    }
   ],
   "source": [
    "result3"
   ]
  },
  {
   "cell_type": "code",
   "execution_count": 34,
   "metadata": {},
   "outputs": [
    {
     "data": {
      "text/plain": [
       "10"
      ]
     },
     "execution_count": 34,
     "metadata": {},
     "output_type": "execute_result"
    }
   ],
   "source": [
    "len(result3)"
   ]
  },
  {
   "cell_type": "code",
   "execution_count": 12,
   "metadata": {},
   "outputs": [],
   "source": [
    "##test"
   ]
  },
  {
   "cell_type": "code",
   "execution_count": 13,
   "metadata": {},
   "outputs": [],
   "source": [
    "# 정답 값을 * white wine vinegar 로 바꾸고, white wine vinegar 가 예측값에 있는지(포함되는지)를 판단하면 될 것 같음"
   ]
  },
  {
   "cell_type": "code",
   "execution_count": 38,
   "metadata": {},
   "outputs": [
    {
     "name": "stdout",
     "output_type": "stream",
     "text": [
      "[['Fontina cheese', 'fresh basil leaves', 'elbow macaroni', 'garlic cloves', 'pine nuts', 'parmesan cheese', 'eggs', 'butter'], ['yellow bell peppers', 'low sodium soy sauce', 'broccoli florets', 'red onions', 'water chestnuts', 'rice vinegar', 'snow peas', 'shrimp', 'mushrooms', 'garlic'], ['pork chops', 'cooking oil', 'apples', 'brown sugar', 'cinnamon', 'butter'], ['havarti cheese', 'boneless chicken breasts', 'roma tomatoes', 'romaine lettuce', 'black olives', 'basil leaves', 'croutons', 'parmesan cheese', 'carrots', 'mushrooms'], ['port wine', 'blackberries', 'beef broth', 'shallot', 'honey', 'butter', 'salt'], ['apricot preserves', 'pecans', 'soy sauce', 'cream cheese', 'bacon'], ['fettuccine', 'dry white wine', 'fresh chives', 'lemons', 'garlic cloves', 'asparagus', 'olive oil', 'butter'], ['cooked white rice', 'cooked chicken', 'cream of chicken soup', 'broccoli', 'sour cream'], ['cranberry beans', 'sliced water chestnuts', 'frozen green peas', 'canned corn', 'great northern beans', 'green bell peppers', 'romaine lettuce', 'broccoli florets', 'red bell peppers', 'skim milk', 'green chilies', 'kidney beans', 'spring onions', 'celery', 'tomatoes'], ['russet potatoes', 'fresh ground black pepper', 'beef broth', 'butter']]\n"
     ]
    }
   ],
   "source": [
    "answer2 = []\n",
    "for line in lines[0:10]:\n",
    "    line = line.split('\\n\\n')\n",
    "    \n",
    "    answer = []\n",
    "    for v in line:\n",
    "        v = v.split('[SEP]')[0]\n",
    "        v = v.split(' ')\n",
    "        for u in v :\n",
    "            u = u.replace('_', ' ')\n",
    "            u = u\n",
    "            answer.append(u)\n",
    "    answer2.append(answer)\n",
    "\n",
    "print(answer2)\n",
    "    \n",
    "    "
   ]
  },
  {
   "cell_type": "code",
   "execution_count": 58,
   "metadata": {},
   "outputs": [
    {
     "data": {
      "text/plain": [
       "['apricot preserves', 'pecans', 'soy sauce', 'cream cheese', 'bacon']"
      ]
     },
     "execution_count": 58,
     "metadata": {},
     "output_type": "execute_result"
    }
   ],
   "source": [
    "answer2[5]"
   ]
  },
  {
   "cell_type": "code",
   "execution_count": 59,
   "metadata": {},
   "outputs": [
    {
     "data": {
      "text/plain": [
       "['1 cup diced Apricots',\n",
       " '2 tablespoons honey',\n",
       " '4 ounces sour cream',\n",
       " '4 ounces cream cheese, softened',\n",
       " '1 teaspoon vanilla extract\\n']"
      ]
     },
     "execution_count": 59,
     "metadata": {},
     "output_type": "execute_result"
    }
   ],
   "source": [
    "result3[5]"
   ]
  },
  {
   "cell_type": "code",
   "execution_count": 39,
   "metadata": {},
   "outputs": [
    {
     "name": "stdout",
     "output_type": "stream",
     "text": [
      "10\n",
      "10\n"
     ]
    }
   ],
   "source": [
    "print(len(result3))\n",
    "print(len(answer2))"
   ]
  },
  {
   "cell_type": "code",
   "execution_count": 40,
   "metadata": {},
   "outputs": [],
   "source": [
    "title = []; correct_ans_list = []; correct_res_list = []; correct_cnt_list = []\n",
    "for v in zip(result3, answer2):\n",
    "    \n",
    "    # print(v[0])\n",
    "    # print(v[1])\n",
    "    # print(' ')\n",
    "\n",
    "    correct_ans = []; correct_res = []; correct_cnt = 0\n",
    "    for u in v[1]:\n",
    "        for k in v[0]:\n",
    "            if u in k:\n",
    "                correct_ans.append(u)\n",
    "                correct_res.append(k)\n",
    "                correct_cnt += 1\n",
    "\n",
    "    correct_ans_list.append(correct_ans)\n",
    "    correct_res_list.append(correct_res)\n",
    "    correct_cnt_list.append(correct_cnt)\n"
   ]
  },
  {
   "cell_type": "code",
   "execution_count": 41,
   "metadata": {},
   "outputs": [],
   "source": [
    "# 앗 food name(title) 빠졌네\n",
    "correct_title_list = []\n",
    "for v in lines[:10]:\n",
    "    v = v.split('[SEP]')[1]\n",
    "    v = v.replace('\\n', '')\n",
    "    correct_title_list.append(v)"
   ]
  },
  {
   "cell_type": "code",
   "execution_count": 42,
   "metadata": {},
   "outputs": [
    {
     "name": "stdout",
     "output_type": "stream",
     "text": [
      "['Pesto Shrimp Mac and Cheese', 'Shrimp Stir Fry', 'Pork Chops and Apples', 'Chopped Salad', 'Blackberry port wine sauce', 'Apricot Party Dip', 'Asparagus Fettuccine', 'Chicken Broccoli Rice', 'Layered Cornbread Salad', 'Cheeseless Scalloped Potatoes']\n",
      "[[], [], ['* 3 lbs. boneless, skinless pork chops', '* 6 medium apples, sliced\\n'], [], [], ['4 ounces cream cheese, softened'], [], [], [], []]\n",
      "[[], [], ['pork chops', 'apples'], [], [], ['cream cheese'], [], [], [], []]\n",
      "[0, 0, 2, 0, 0, 1, 0, 0, 0, 0]\n"
     ]
    }
   ],
   "source": [
    "print(correct_title_list)\n",
    "print(correct_res_list)\n",
    "print(correct_ans_list)\n",
    "print(correct_cnt_list)"
   ]
  },
  {
   "cell_type": "code",
   "execution_count": 43,
   "metadata": {},
   "outputs": [],
   "source": [
    "len_ingredients = []\n",
    "for v in correct_res_list:\n",
    "    len_ingredients.append(len(v))\n",
    "\n",
    "len_answer = []\n",
    "for v in answer2:\n",
    "    len_answer.append(len(v))"
   ]
  },
  {
   "cell_type": "code",
   "execution_count": 44,
   "metadata": {},
   "outputs": [
    {
     "name": "stdout",
     "output_type": "stream",
     "text": [
      "10\n",
      "10\n",
      "10\n",
      "10\n",
      "10\n",
      "10\n"
     ]
    }
   ],
   "source": [
    "print(len(correct_title_list))\n",
    "print(len(correct_res_list))\n",
    "print(len(answer2))\n",
    "print(len(correct_cnt_list))\n",
    "print(len(len_ingredients))\n",
    "print(len(len_answer))"
   ]
  },
  {
   "cell_type": "code",
   "execution_count": 45,
   "metadata": {},
   "outputs": [],
   "source": [
    "import pandas as pd \n",
    "df = pd.DataFrame({'title' : correct_title_list,\n",
    "                  'ingredients' : correct_res_list,\n",
    "                  'answer' : answer2,\n",
    "                  'score' : correct_cnt_list,\n",
    "                  'len_ingredients' : len_ingredients,\n",
    "                  'len_answer' : len_answer})"
   ]
  },
  {
   "cell_type": "code",
   "execution_count": 46,
   "metadata": {},
   "outputs": [
    {
     "data": {
      "text/html": [
       "<div>\n",
       "<style scoped>\n",
       "    .dataframe tbody tr th:only-of-type {\n",
       "        vertical-align: middle;\n",
       "    }\n",
       "\n",
       "    .dataframe tbody tr th {\n",
       "        vertical-align: top;\n",
       "    }\n",
       "\n",
       "    .dataframe thead th {\n",
       "        text-align: right;\n",
       "    }\n",
       "</style>\n",
       "<table border=\"1\" class=\"dataframe\">\n",
       "  <thead>\n",
       "    <tr style=\"text-align: right;\">\n",
       "      <th></th>\n",
       "      <th>title</th>\n",
       "      <th>ingredients</th>\n",
       "      <th>answer</th>\n",
       "      <th>score</th>\n",
       "      <th>len_ingredients</th>\n",
       "      <th>len_answer</th>\n",
       "    </tr>\n",
       "  </thead>\n",
       "  <tbody>\n",
       "    <tr>\n",
       "      <th>0</th>\n",
       "      <td>Pesto Shrimp Mac and Cheese</td>\n",
       "      <td>[]</td>\n",
       "      <td>[Fontina cheese, fresh basil leaves, elbow mac...</td>\n",
       "      <td>0</td>\n",
       "      <td>0</td>\n",
       "      <td>8</td>\n",
       "    </tr>\n",
       "    <tr>\n",
       "      <th>1</th>\n",
       "      <td>Shrimp Stir Fry</td>\n",
       "      <td>[]</td>\n",
       "      <td>[yellow bell peppers, low sodium soy sauce, br...</td>\n",
       "      <td>0</td>\n",
       "      <td>0</td>\n",
       "      <td>10</td>\n",
       "    </tr>\n",
       "    <tr>\n",
       "      <th>2</th>\n",
       "      <td>Pork Chops and Apples</td>\n",
       "      <td>[* 3 lbs. boneless, skinless pork chops, * 6 m...</td>\n",
       "      <td>[pork chops, cooking oil, apples, brown sugar,...</td>\n",
       "      <td>2</td>\n",
       "      <td>2</td>\n",
       "      <td>6</td>\n",
       "    </tr>\n",
       "    <tr>\n",
       "      <th>3</th>\n",
       "      <td>Chopped Salad</td>\n",
       "      <td>[]</td>\n",
       "      <td>[havarti cheese, boneless chicken breasts, rom...</td>\n",
       "      <td>0</td>\n",
       "      <td>0</td>\n",
       "      <td>10</td>\n",
       "    </tr>\n",
       "    <tr>\n",
       "      <th>4</th>\n",
       "      <td>Blackberry port wine sauce</td>\n",
       "      <td>[]</td>\n",
       "      <td>[port wine, blackberries, beef broth, shallot,...</td>\n",
       "      <td>0</td>\n",
       "      <td>0</td>\n",
       "      <td>7</td>\n",
       "    </tr>\n",
       "    <tr>\n",
       "      <th>5</th>\n",
       "      <td>Apricot Party Dip</td>\n",
       "      <td>[4 ounces cream cheese, softened]</td>\n",
       "      <td>[apricot preserves, pecans, soy sauce, cream c...</td>\n",
       "      <td>1</td>\n",
       "      <td>1</td>\n",
       "      <td>5</td>\n",
       "    </tr>\n",
       "    <tr>\n",
       "      <th>6</th>\n",
       "      <td>Asparagus Fettuccine</td>\n",
       "      <td>[]</td>\n",
       "      <td>[fettuccine, dry white wine, fresh chives, lem...</td>\n",
       "      <td>0</td>\n",
       "      <td>0</td>\n",
       "      <td>8</td>\n",
       "    </tr>\n",
       "    <tr>\n",
       "      <th>7</th>\n",
       "      <td>Chicken Broccoli Rice</td>\n",
       "      <td>[]</td>\n",
       "      <td>[cooked white rice, cooked chicken, cream of c...</td>\n",
       "      <td>0</td>\n",
       "      <td>0</td>\n",
       "      <td>5</td>\n",
       "    </tr>\n",
       "    <tr>\n",
       "      <th>8</th>\n",
       "      <td>Layered Cornbread Salad</td>\n",
       "      <td>[]</td>\n",
       "      <td>[cranberry beans, sliced water chestnuts, froz...</td>\n",
       "      <td>0</td>\n",
       "      <td>0</td>\n",
       "      <td>15</td>\n",
       "    </tr>\n",
       "    <tr>\n",
       "      <th>9</th>\n",
       "      <td>Cheeseless Scalloped Potatoes</td>\n",
       "      <td>[]</td>\n",
       "      <td>[russet potatoes, fresh ground black pepper, b...</td>\n",
       "      <td>0</td>\n",
       "      <td>0</td>\n",
       "      <td>4</td>\n",
       "    </tr>\n",
       "  </tbody>\n",
       "</table>\n",
       "</div>"
      ],
      "text/plain": [
       "                           title  \\\n",
       "0    Pesto Shrimp Mac and Cheese   \n",
       "1                Shrimp Stir Fry   \n",
       "2          Pork Chops and Apples   \n",
       "3                  Chopped Salad   \n",
       "4     Blackberry port wine sauce   \n",
       "5              Apricot Party Dip   \n",
       "6           Asparagus Fettuccine   \n",
       "7          Chicken Broccoli Rice   \n",
       "8        Layered Cornbread Salad   \n",
       "9  Cheeseless Scalloped Potatoes   \n",
       "\n",
       "                                         ingredients  \\\n",
       "0                                                 []   \n",
       "1                                                 []   \n",
       "2  [* 3 lbs. boneless, skinless pork chops, * 6 m...   \n",
       "3                                                 []   \n",
       "4                                                 []   \n",
       "5                  [4 ounces cream cheese, softened]   \n",
       "6                                                 []   \n",
       "7                                                 []   \n",
       "8                                                 []   \n",
       "9                                                 []   \n",
       "\n",
       "                                              answer  score  len_ingredients  \\\n",
       "0  [Fontina cheese, fresh basil leaves, elbow mac...      0                0   \n",
       "1  [yellow bell peppers, low sodium soy sauce, br...      0                0   \n",
       "2  [pork chops, cooking oil, apples, brown sugar,...      2                2   \n",
       "3  [havarti cheese, boneless chicken breasts, rom...      0                0   \n",
       "4  [port wine, blackberries, beef broth, shallot,...      0                0   \n",
       "5  [apricot preserves, pecans, soy sauce, cream c...      1                1   \n",
       "6  [fettuccine, dry white wine, fresh chives, lem...      0                0   \n",
       "7  [cooked white rice, cooked chicken, cream of c...      0                0   \n",
       "8  [cranberry beans, sliced water chestnuts, froz...      0                0   \n",
       "9  [russet potatoes, fresh ground black pepper, b...      0                0   \n",
       "\n",
       "   len_answer  \n",
       "0           8  \n",
       "1          10  \n",
       "2           6  \n",
       "3          10  \n",
       "4           7  \n",
       "5           5  \n",
       "6           8  \n",
       "7           5  \n",
       "8          15  \n",
       "9           4  "
      ]
     },
     "execution_count": 46,
     "metadata": {},
     "output_type": "execute_result"
    }
   ],
   "source": [
    "df"
   ]
  },
  {
   "cell_type": "code",
   "execution_count": 48,
   "metadata": {},
   "outputs": [
    {
     "name": "stdout",
     "output_type": "stream",
     "text": [
      "(['Fontina cheese', 'fresh basil leaves', 'elbow macaroni', 'garlic cloves', 'pine nuts', 'parmesan cheese', 'eggs', 'butter'], [])\n",
      "\n",
      "[0, 0, 0, 0, 0, 0, 0, 0]\n",
      "(['yellow bell peppers', 'low sodium soy sauce', 'broccoli florets', 'red onions', 'water chestnuts', 'rice vinegar', 'snow peas', 'shrimp', 'mushrooms', 'garlic'], [])\n",
      "\n",
      "[0, 0, 0, 0, 0, 0, 0, 0, 0, 0]\n",
      "(['pork chops', 'cooking oil', 'apples', 'brown sugar', 'cinnamon', 'butter'], ['* 3 lbs. boneless, skinless pork chops', '* 6 medium apples, sliced\\n'])\n",
      "\n",
      "[1, 0, 1, 0, 0, 0]\n",
      "(['havarti cheese', 'boneless chicken breasts', 'roma tomatoes', 'romaine lettuce', 'black olives', 'basil leaves', 'croutons', 'parmesan cheese', 'carrots', 'mushrooms'], [])\n",
      "\n",
      "[0, 0, 0, 0, 0, 0, 0, 0, 0, 0]\n",
      "(['port wine', 'blackberries', 'beef broth', 'shallot', 'honey', 'butter', 'salt'], [])\n",
      "\n",
      "[0, 0, 0, 0, 0, 0, 0]\n",
      "(['apricot preserves', 'pecans', 'soy sauce', 'cream cheese', 'bacon'], ['4 ounces cream cheese, softened'])\n",
      "\n",
      "[0, 0, 0, 1, 0]\n",
      "(['fettuccine', 'dry white wine', 'fresh chives', 'lemons', 'garlic cloves', 'asparagus', 'olive oil', 'butter'], [])\n",
      "\n",
      "[0, 0, 0, 0, 0, 0, 0, 0]\n",
      "(['cooked white rice', 'cooked chicken', 'cream of chicken soup', 'broccoli', 'sour cream'], [])\n",
      "\n",
      "[0, 0, 0, 0, 0]\n",
      "(['cranberry beans', 'sliced water chestnuts', 'frozen green peas', 'canned corn', 'great northern beans', 'green bell peppers', 'romaine lettuce', 'broccoli florets', 'red bell peppers', 'skim milk', 'green chilies', 'kidney beans', 'spring onions', 'celery', 'tomatoes'], [])\n",
      "\n",
      "[0, 0, 0, 0, 0, 0, 0, 0, 0, 0, 0, 0, 0, 0, 0]\n",
      "(['russet potatoes', 'fresh ground black pepper', 'beef broth', 'butter'], [])\n",
      "\n",
      "[0, 0, 0, 0]\n"
     ]
    }
   ],
   "source": [
    "score_list = []\n",
    "for i, v in enumerate(zip(df['answer'], df['ingredients'])):\n",
    "    print(v)\n",
    "    print('')\n",
    "\n",
    "    tmp_list = []\n",
    "    for u in v[0]:\n",
    "\n",
    "        flag=0\n",
    "        for k in v[1]:\n",
    "            if u in k:\n",
    "                flag=1\n",
    "        tmp_list.append(flag)\n",
    "    print(tmp_list)\n",
    "    score_list.append(tmp_list)\n"
   ]
  },
  {
   "cell_type": "code",
   "execution_count": 49,
   "metadata": {},
   "outputs": [],
   "source": [
    "df2 = pd.DataFrame(score_list)"
   ]
  },
  {
   "cell_type": "code",
   "execution_count": 50,
   "metadata": {},
   "outputs": [
    {
     "data": {
      "text/html": [
       "<div>\n",
       "<style scoped>\n",
       "    .dataframe tbody tr th:only-of-type {\n",
       "        vertical-align: middle;\n",
       "    }\n",
       "\n",
       "    .dataframe tbody tr th {\n",
       "        vertical-align: top;\n",
       "    }\n",
       "\n",
       "    .dataframe thead th {\n",
       "        text-align: right;\n",
       "    }\n",
       "</style>\n",
       "<table border=\"1\" class=\"dataframe\">\n",
       "  <thead>\n",
       "    <tr style=\"text-align: right;\">\n",
       "      <th></th>\n",
       "      <th>0</th>\n",
       "      <th>1</th>\n",
       "      <th>2</th>\n",
       "      <th>3</th>\n",
       "      <th>4</th>\n",
       "      <th>5</th>\n",
       "      <th>6</th>\n",
       "      <th>7</th>\n",
       "      <th>8</th>\n",
       "      <th>9</th>\n",
       "      <th>10</th>\n",
       "      <th>11</th>\n",
       "      <th>12</th>\n",
       "      <th>13</th>\n",
       "      <th>14</th>\n",
       "    </tr>\n",
       "  </thead>\n",
       "  <tbody>\n",
       "    <tr>\n",
       "      <th>0</th>\n",
       "      <td>0</td>\n",
       "      <td>0</td>\n",
       "      <td>0</td>\n",
       "      <td>0</td>\n",
       "      <td>0.0</td>\n",
       "      <td>0.0</td>\n",
       "      <td>0.0</td>\n",
       "      <td>0.0</td>\n",
       "      <td>NaN</td>\n",
       "      <td>NaN</td>\n",
       "      <td>NaN</td>\n",
       "      <td>NaN</td>\n",
       "      <td>NaN</td>\n",
       "      <td>NaN</td>\n",
       "      <td>NaN</td>\n",
       "    </tr>\n",
       "    <tr>\n",
       "      <th>1</th>\n",
       "      <td>0</td>\n",
       "      <td>0</td>\n",
       "      <td>0</td>\n",
       "      <td>0</td>\n",
       "      <td>0.0</td>\n",
       "      <td>0.0</td>\n",
       "      <td>0.0</td>\n",
       "      <td>0.0</td>\n",
       "      <td>0.0</td>\n",
       "      <td>0.0</td>\n",
       "      <td>NaN</td>\n",
       "      <td>NaN</td>\n",
       "      <td>NaN</td>\n",
       "      <td>NaN</td>\n",
       "      <td>NaN</td>\n",
       "    </tr>\n",
       "    <tr>\n",
       "      <th>2</th>\n",
       "      <td>1</td>\n",
       "      <td>0</td>\n",
       "      <td>1</td>\n",
       "      <td>0</td>\n",
       "      <td>0.0</td>\n",
       "      <td>0.0</td>\n",
       "      <td>NaN</td>\n",
       "      <td>NaN</td>\n",
       "      <td>NaN</td>\n",
       "      <td>NaN</td>\n",
       "      <td>NaN</td>\n",
       "      <td>NaN</td>\n",
       "      <td>NaN</td>\n",
       "      <td>NaN</td>\n",
       "      <td>NaN</td>\n",
       "    </tr>\n",
       "    <tr>\n",
       "      <th>3</th>\n",
       "      <td>0</td>\n",
       "      <td>0</td>\n",
       "      <td>0</td>\n",
       "      <td>0</td>\n",
       "      <td>0.0</td>\n",
       "      <td>0.0</td>\n",
       "      <td>0.0</td>\n",
       "      <td>0.0</td>\n",
       "      <td>0.0</td>\n",
       "      <td>0.0</td>\n",
       "      <td>NaN</td>\n",
       "      <td>NaN</td>\n",
       "      <td>NaN</td>\n",
       "      <td>NaN</td>\n",
       "      <td>NaN</td>\n",
       "    </tr>\n",
       "    <tr>\n",
       "      <th>4</th>\n",
       "      <td>0</td>\n",
       "      <td>0</td>\n",
       "      <td>0</td>\n",
       "      <td>0</td>\n",
       "      <td>0.0</td>\n",
       "      <td>0.0</td>\n",
       "      <td>0.0</td>\n",
       "      <td>NaN</td>\n",
       "      <td>NaN</td>\n",
       "      <td>NaN</td>\n",
       "      <td>NaN</td>\n",
       "      <td>NaN</td>\n",
       "      <td>NaN</td>\n",
       "      <td>NaN</td>\n",
       "      <td>NaN</td>\n",
       "    </tr>\n",
       "  </tbody>\n",
       "</table>\n",
       "</div>"
      ],
      "text/plain": [
       "   0   1   2   3    4    5    6    7    8    9   10  11  12  13  14\n",
       "0   0   0   0   0  0.0  0.0  0.0  0.0  NaN  NaN NaN NaN NaN NaN NaN\n",
       "1   0   0   0   0  0.0  0.0  0.0  0.0  0.0  0.0 NaN NaN NaN NaN NaN\n",
       "2   1   0   1   0  0.0  0.0  NaN  NaN  NaN  NaN NaN NaN NaN NaN NaN\n",
       "3   0   0   0   0  0.0  0.0  0.0  0.0  0.0  0.0 NaN NaN NaN NaN NaN\n",
       "4   0   0   0   0  0.0  0.0  0.0  NaN  NaN  NaN NaN NaN NaN NaN NaN"
      ]
     },
     "execution_count": 50,
     "metadata": {},
     "output_type": "execute_result"
    }
   ],
   "source": [
    "df2.head()"
   ]
  },
  {
   "cell_type": "code",
   "execution_count": 51,
   "metadata": {},
   "outputs": [
    {
     "data": {
      "text/plain": [
       "0.020000000000000004"
      ]
     },
     "execution_count": 51,
     "metadata": {},
     "output_type": "execute_result"
    }
   ],
   "source": [
    "# macro avg\n",
    "sum(list(df2.mean())) / len(df2.mean())"
   ]
  },
  {
   "cell_type": "code",
   "execution_count": 52,
   "metadata": {},
   "outputs": [
    {
     "data": {
      "text/plain": [
       "0.05333333333333333"
      ]
     },
     "execution_count": 52,
     "metadata": {},
     "output_type": "execute_result"
    }
   ],
   "source": [
    "# micro avg\n",
    "sum(list(df2.T.mean())) / len(df2.T.mean())"
   ]
  },
  {
   "cell_type": "code",
   "execution_count": null,
   "metadata": {},
   "outputs": [],
   "source": []
  },
  {
   "cell_type": "code",
   "execution_count": null,
   "metadata": {},
   "outputs": [],
   "source": []
  },
  {
   "cell_type": "code",
   "execution_count": 31,
   "metadata": {},
   "outputs": [
    {
     "data": {
      "text/plain": [
       "'rye_bread fresh_dill white_wine_vinegar coarse_salt salmon_fillets Dijon_mustard peppercorns vegetable_oil sugar'"
      ]
     },
     "execution_count": 31,
     "metadata": {},
     "output_type": "execute_result"
    }
   ],
   "source": [
    "lines[999].split('[SEP]')[0]"
   ]
  },
  {
   "cell_type": "code",
   "execution_count": 34,
   "metadata": {},
   "outputs": [
    {
     "data": {
      "text/plain": [
       "['* Fresh salmon fillet (skin removed)',\n",
       " '* Dill weed',\n",
       " '* Salt',\n",
       " '* Sugar',\n",
       " '* Vinegar (such as white wine vinegar or apple cider vinegar)',\n",
       " '* Water',\n",
       " '* Lemon juice',\n",
       " '* Garlic',\n",
       " '* Mustard seeds',\n",
       " '* Peppercorns',\n",
       " '* Bay leaves']"
      ]
     },
     "execution_count": 34,
     "metadata": {},
     "output_type": "execute_result"
    }
   ],
   "source": [
    "result3[-1]"
   ]
  },
  {
   "cell_type": "code",
   "execution_count": 102,
   "metadata": {},
   "outputs": [
    {
     "data": {
      "text/plain": [
       "list"
      ]
     },
     "execution_count": 102,
     "metadata": {},
     "output_type": "execute_result"
    }
   ],
   "source": [
    "type(result3[-1])"
   ]
  },
  {
   "cell_type": "code",
   "execution_count": 93,
   "metadata": {},
   "outputs": [
    {
     "name": "stdout",
     "output_type": "stream",
     "text": [
      "<class 'str'>\n",
      "<class 'str'>\n",
      "<class 'str'>\n",
      "<class 'str'>\n",
      "<class 'str'>\n",
      "<class 'str'>\n",
      "<class 'str'>\n",
      "<class 'str'>\n",
      "<class 'str'>\n",
      "<class 'str'>\n",
      "<class 'str'>\n"
     ]
    }
   ],
   "source": [
    "for v in result3[-1]:\n",
    "    if 'salmon fillet' in v:\n",
    "        print(v)"
   ]
  },
  {
   "cell_type": "code",
   "execution_count": null,
   "metadata": {},
   "outputs": [],
   "source": []
  },
  {
   "cell_type": "code",
   "execution_count": null,
   "metadata": {},
   "outputs": [],
   "source": []
  },
  {
   "cell_type": "code",
   "execution_count": null,
   "metadata": {},
   "outputs": [],
   "source": []
  },
  {
   "cell_type": "code",
   "execution_count": null,
   "metadata": {},
   "outputs": [],
   "source": []
  },
  {
   "cell_type": "code",
   "execution_count": 121,
   "metadata": {},
   "outputs": [
    {
     "name": "stdout",
     "output_type": "stream",
     "text": [
      ">Sure! Here are the ingredients for Banana Muffins With Chocolate Peanut Frosting:>>For the muffins:>>* 3 large ripe bananas, mashed>* 1 1/2 cups all-purpose flour>* 1 cup granulated sugar>* 2 teaspoons baking powder>* 1/4 teaspoon salt>* 1/4 cup unsalted butter, melted>* 2 large eggs>* 1/2 cup plain yogurt>* 1 teaspoon vanilla extract>>For the chocolate peanut frosting:>>* 8 ounces semisweet chocolate chips>* 1/4 cup unsalted butter, softened>* 1/2 cup peanut butter>* 1 teaspoon vanilla extract>>I hope this helps! Let me know if you have any questions.\n"
     ]
    }
   ],
   "source": [
    "# result[73] \n",
    "tmp = result[73].replace('*', '<')\n",
    "tmp = result[73].replace('\\n', '>')\n",
    "print(tmp)"
   ]
  },
  {
   "cell_type": "code",
   "execution_count": 125,
   "metadata": {},
   "outputs": [
    {
     "data": {
      "text/plain": [
       "'adasf'"
      ]
     },
     "execution_count": 125,
     "metadata": {},
     "output_type": "execute_result"
    }
   ],
   "source": [
    "import re\n",
    "\n",
    "temp = '<adasf>'\n",
    "re.search('<(.*?)>', temp).group(1)"
   ]
  },
  {
   "cell_type": "code",
   "execution_count": 67,
   "metadata": {},
   "outputs": [
    {
     "name": "stdout",
     "output_type": "stream",
     "text": [
      "Sure, here are the ingredients of a basic Chopped Salad:\n",
      "\n",
      "* Mixed greens (such as lettuce, spinach, arugula)\n",
      "* Cherry tomatoes\n",
      "* Cucumber\n",
      "* Red onion\n",
      "* Croutons (usually made from bread crusts)\n",
      "* Cheese (such as cheddar, feta, or parmesan)\n",
      "* Protein source (such as grilled chicken, salmon, or tofu)\n",
      "* Dressing (such as vinaigrette, ranch, or creamy Italian)\n"
     ]
    }
   ],
   "source": [
    "print(llm.predict(f\"Please exclude the content. {result[3]}\"))"
   ]
  },
  {
   "cell_type": "code",
   "execution_count": null,
   "metadata": {},
   "outputs": [],
   "source": []
  },
  {
   "cell_type": "code",
   "execution_count": null,
   "metadata": {},
   "outputs": [],
   "source": []
  },
  {
   "cell_type": "code",
   "execution_count": null,
   "metadata": {},
   "outputs": [],
   "source": []
  },
  {
   "cell_type": "code",
   "execution_count": 6,
   "metadata": {},
   "outputs": [
    {
     "data": {
      "text/plain": [
       "'1. What is your name?\\n2. What are you looking for?\\n3. Can I help you with something?'"
      ]
     },
     "execution_count": 6,
     "metadata": {},
     "output_type": "execute_result"
    }
   ],
   "source": [
    "llm=Ollama(model=\"llava\")\n",
    "res = llm.predict('ababs')\n",
    "res"
   ]
  },
  {
   "cell_type": "code",
   "execution_count": 7,
   "metadata": {},
   "outputs": [
    {
     "data": {
      "text/plain": [
       "' It seems like you have typed \"ababs\" without any context. This could be a typo or an abbreviation with unclear meaning. Here are some possibilities:\\n\\n1. ABBAS: This could refer to Abbas, a common name in the Middle East, especially among Palestinians and Iranians.\\n2. Abstract Art: This is a genre of art that does not depict physical objects or people but instead uses shapes, colors, forms and textures to convey emotions and ideas.\\n3. Asian American and Pacific Islander Serving Institution: A school or organization that serves a significant number of Asian American and Pacific Islander students.\\n4. Association for Business Administration and Science: An association or society focused on business administration and scientific research.\\n5. Alcoholic Beverage and Wine Institute: An industry group representing wineries, winegrowers, and associated businesses in the United States.\\n6. Arabic BabelSquid Annotation Benchmark: A dataset used for evaluating annotation tools for Arabic language processing tasks.\\n7. Automated Backup and Archive Solution: A software or service that automates the process of backing up and archiving data.\\n8. Advanced Bond Breaking Algorithms: A set of algorithms used in chemistry to predict the energies and structures of molecules, particularly when breaking bonds.\\n9. Arabic Bible Society: An organization that promotes the translation, production, and distribution of the Bible in Arabic language.\\n10. Automated Broadcasting System: A technology or platform for automating the production and broadcasting of radio or television content.\\n\\nWithout additional context, it is difficult to determine which meaning, if any, applies to your query. If none of these options are correct, please provide more information so I can assist you better.'"
      ]
     },
     "execution_count": 7,
     "metadata": {},
     "output_type": "execute_result"
    }
   ],
   "source": [
    "llm=Ollama(model=\"mistral\")\n",
    "res = llm.predict('ababs')\n",
    "res"
   ]
  },
  {
   "cell_type": "code",
   "execution_count": 8,
   "metadata": {},
   "outputs": [
    {
     "data": {
      "text/plain": [
       "'```css\\nababs = {}\\n```'"
      ]
     },
     "execution_count": 8,
     "metadata": {},
     "output_type": "execute_result"
    }
   ],
   "source": [
    "\n",
    "llm=Ollama(model=\"vicuna\")\n",
    "res = llm.predict('ababs')\n",
    "res"
   ]
  },
  {
   "cell_type": "code",
   "execution_count": null,
   "metadata": {},
   "outputs": [],
   "source": []
  }
 ],
 "metadata": {
  "kernelspec": {
   "display_name": "ing",
   "language": "python",
   "name": "python3"
  },
  "language_info": {
   "codemirror_mode": {
    "name": "ipython",
    "version": 3
   },
   "file_extension": ".py",
   "mimetype": "text/x-python",
   "name": "python",
   "nbconvert_exporter": "python",
   "pygments_lexer": "ipython3",
   "version": "3.11.4"
  }
 },
 "nbformat": 4,
 "nbformat_minor": 2
}
